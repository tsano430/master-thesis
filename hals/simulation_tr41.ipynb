{
 "cells": [
  {
   "cell_type": "markdown",
   "metadata": {},
   "source": [
    "# Simulation (Olivetti dataset)"
   ]
  },
  {
   "cell_type": "code",
   "execution_count": 1,
   "metadata": {},
   "outputs": [],
   "source": [
    "import pickle\n",
    "import numpy as np\n",
    "import pandas as pd\n",
    "from sklearn.datasets import fetch_olivetti_faces"
   ]
  },
  {
   "cell_type": "code",
   "execution_count": 2,
   "metadata": {},
   "outputs": [],
   "source": [
    "from hals import NMF, PMF"
   ]
  },
  {
   "cell_type": "code",
   "execution_count": 3,
   "metadata": {},
   "outputs": [],
   "source": [
    "pd.options.display.float_format = '{:.3f}'.format"
   ]
  },
  {
   "cell_type": "markdown",
   "metadata": {},
   "source": [
    "Parameters\n",
    "----"
   ]
  },
  {
   "cell_type": "code",
   "execution_count": 4,
   "metadata": {},
   "outputs": [],
   "source": [
    "max_iter = 100"
   ]
  },
  {
   "cell_type": "code",
   "execution_count": 5,
   "metadata": {},
   "outputs": [],
   "source": [
    "l1term  = (0.0, 0.0)"
   ]
  },
  {
   "cell_type": "markdown",
   "metadata": {},
   "source": [
    "Input data\n",
    "----"
   ]
  },
  {
   "cell_type": "code",
   "execution_count": 6,
   "metadata": {},
   "outputs": [
    {
     "name": "stdout",
     "output_type": "stream",
     "text": [
      "The shape of X: 7454 * 878\n",
      "class: 10\n"
     ]
    }
   ],
   "source": [
    "fpath = '../input/CLUTO_tr41.pkl'\n",
    "f = open(fpath, 'rb')\n",
    "dataset = pickle.load(f)\n",
    "f.close()\n",
    "\n",
    "X = dataset['X'].astype('float').toarray()\n",
    "y = dataset['y']\n",
    "row, col = X.shape\n",
    "dim = len(np.unique(y))\n",
    "print('The shape of X: {} * {}'.format(row, col))\n",
    "print('class: {}'.format(dim))"
   ]
  },
  {
   "cell_type": "markdown",
   "metadata": {},
   "source": [
    "Simulation\n",
    "----"
   ]
  },
  {
   "cell_type": "code",
   "execution_count": 7,
   "metadata": {},
   "outputs": [],
   "source": [
    "original_ret = ['NA']  * 4 \n",
    "normalized_ret = ['NA'] * 4\n",
    "positive_ret = ['NA'] * 4\n",
    "proposed_ret = ['NA'] * 4"
   ]
  },
  {
   "cell_type": "code",
   "execution_count": 8,
   "metadata": {},
   "outputs": [],
   "source": [
    "elem_W = row * dim\n",
    "elem_H = col * dim"
   ]
  },
  {
   "cell_type": "code",
   "execution_count": 9,
   "metadata": {},
   "outputs": [],
   "source": [
    "original = NMF(n_components=dim, max_iter=max_iter, l1term=l1term, calc_obj=True, calc_pgrad=True, stopkkt_flag=False, eps=0.0, normal_flag=False).fit(X)\n",
    "\n",
    "# Relative objective function value\n",
    "original_obj = original.get_obj()[-1]\n",
    "\n",
    "# Relative squared projected gradient norm\n",
    "original_pgrad = original.get_pgrad_norm()[-1]\n",
    "\n",
    "# Ratio of zero elements in W\t\n",
    "original_W = original.get_basis()\n",
    "original_zeroratio_W = (elem_W - len(np.nonzero(original_W)[0])) / elem_W\n",
    "\n",
    "# Ratio of zero elements in H\n",
    "original_H = original.get_coef()\n",
    "original_zeroratio_H = (elem_H - len(np.nonzero(original_H)[0])) / elem_H\n",
    "\n",
    "# Result\n",
    "original_ret = [original_obj, original_pgrad, original_zeroratio_W, original_zeroratio_H]"
   ]
  },
  {
   "cell_type": "code",
   "execution_count": 10,
   "metadata": {},
   "outputs": [],
   "source": [
    "normalized = NMF(n_components=dim, max_iter=max_iter, l1term=l1term, calc_obj=True, calc_pgrad=True, stopkkt_flag=False, eps=0.0, normal_flag=True).fit(X)\n",
    "\n",
    "# Relative objective function value\n",
    "normalized_obj = normalized.get_obj()[-1]\n",
    "\n",
    "# Relative squared projected gradient norm\n",
    "normalized_pgrad = normalized.get_pgrad_norm()[-1]\n",
    "\n",
    "# Ratio of zero elements in W\t\n",
    "normalized_W = normalized.get_basis()\n",
    "normalized_zeroratio_W = (elem_W - len(np.nonzero(normalized_W)[0])) / elem_W\n",
    "\n",
    "# Ratio of zero elements in H\n",
    "normalized_H = normalized.get_coef()\n",
    "normalized_zeroratio_H = (elem_H - len(np.nonzero(normalized_H)[0])) / elem_H\n",
    "\n",
    "# Result\n",
    "normalized_ret = [normalized_obj, normalized_pgrad, normalized_zeroratio_W, normalized_zeroratio_H]"
   ]
  },
  {
   "cell_type": "code",
   "execution_count": 11,
   "metadata": {},
   "outputs": [],
   "source": [
    "positive = PMF(n_components=dim, max_iter=max_iter, l1term=l1term, calc_obj=True, calc_pgrad=True, stopkkt_flag=False, normal_flag=False).fit(X)\n",
    "\n",
    "# Relative objective function value\n",
    "positive_obj = positive.get_obj()[-1]\n",
    "\n",
    "# Relative squared projected gradient norm\n",
    "positive_pgrad = positive.get_pgrad_norm()[-1]\n",
    "\n",
    "# Ratio of zero elements in W\t\n",
    "positive_W = positive.get_basis()\n",
    "positive_zeroratio_W = (elem_W - len(np.nonzero(positive_W)[0])) / elem_W\n",
    "\n",
    "# Ratio of zero elements in H\n",
    "positive_H = positive.get_coef()\n",
    "positive_zeroratio_H = (elem_H - len(np.nonzero(positive_H)[0])) / elem_H\n",
    "\n",
    "# Result\n",
    "positive_ret = [positive_obj, positive_pgrad, positive_zeroratio_W, positive_zeroratio_H]"
   ]
  },
  {
   "cell_type": "code",
   "execution_count": 12,
   "metadata": {},
   "outputs": [],
   "source": [
    "proposed = NMF(n_components=dim, max_iter=max_iter, l1term=l1term, calc_obj=True, calc_pgrad=True, stopkkt_flag=False, normal_flag=True).fit(X)\n",
    "\n",
    "# Relative objective function value\n",
    "proposed_obj = proposed.get_obj()[-1]\n",
    "\n",
    "# Relative squared projected gradient norm\n",
    "proposed_pgrad = proposed.get_pgrad_norm()[-1]\n",
    "\n",
    "# Ratio of zero elements in W\t\n",
    "proposed_W = proposed.get_basis()\n",
    "proposed_zeroratio_W = (elem_W - len(np.nonzero(proposed_W)[0])) / elem_W\n",
    "\n",
    "# Ratio of zero elements in H\n",
    "proposed_H = proposed.get_coef()\n",
    "proposed_zeroratio_H = (elem_H - len(np.nonzero(proposed_H)[0])) / elem_H\n",
    "\n",
    "# Result\n",
    "proposed_ret = [proposed_obj, proposed_pgrad, proposed_zeroratio_W, proposed_zeroratio_H]"
   ]
  },
  {
   "cell_type": "markdown",
   "metadata": {},
   "source": [
    "Result\n",
    "--------"
   ]
  },
  {
   "cell_type": "code",
   "execution_count": 13,
   "metadata": {},
   "outputs": [
    {
     "data": {
      "text/html": [
       "<div>\n",
       "<style scoped>\n",
       "    .dataframe tbody tr th:only-of-type {\n",
       "        vertical-align: middle;\n",
       "    }\n",
       "\n",
       "    .dataframe tbody tr th {\n",
       "        vertical-align: top;\n",
       "    }\n",
       "\n",
       "    .dataframe thead th {\n",
       "        text-align: right;\n",
       "    }\n",
       "</style>\n",
       "<table border=\"1\" class=\"dataframe\">\n",
       "  <thead>\n",
       "    <tr style=\"text-align: right;\">\n",
       "      <th></th>\n",
       "      <th>Original</th>\n",
       "      <th>Normalized</th>\n",
       "      <th>Positive</th>\n",
       "      <th>Proposed</th>\n",
       "    </tr>\n",
       "  </thead>\n",
       "  <tbody>\n",
       "    <tr>\n",
       "      <th>Relative objective function value</th>\n",
       "      <td>0.703</td>\n",
       "      <td>0.703</td>\n",
       "      <td>0.703</td>\n",
       "      <td>0.703</td>\n",
       "    </tr>\n",
       "    <tr>\n",
       "      <th>Relative squared projected gradient norm</th>\n",
       "      <td>0.000</td>\n",
       "      <td>0.000</td>\n",
       "      <td>0.002</td>\n",
       "      <td>0.000</td>\n",
       "    </tr>\n",
       "    <tr>\n",
       "      <th>Ratio of zero elements in W</th>\n",
       "      <td>0.489</td>\n",
       "      <td>0.489</td>\n",
       "      <td>0.000</td>\n",
       "      <td>0.489</td>\n",
       "    </tr>\n",
       "    <tr>\n",
       "      <th>Ratio of zero elements in H</th>\n",
       "      <td>0.489</td>\n",
       "      <td>0.489</td>\n",
       "      <td>0.000</td>\n",
       "      <td>0.489</td>\n",
       "    </tr>\n",
       "  </tbody>\n",
       "</table>\n",
       "</div>"
      ],
      "text/plain": [
       "                                          Original  Normalized  Positive  \\\n",
       "Relative objective function value            0.703       0.703     0.703   \n",
       "Relative squared projected gradient norm     0.000       0.000     0.002   \n",
       "Ratio of zero elements in W                  0.489       0.489     0.000   \n",
       "Ratio of zero elements in H                  0.489       0.489     0.000   \n",
       "\n",
       "                                          Proposed  \n",
       "Relative objective function value            0.703  \n",
       "Relative squared projected gradient norm     0.000  \n",
       "Ratio of zero elements in W                  0.489  \n",
       "Ratio of zero elements in H                  0.489  "
      ]
     },
     "execution_count": 13,
     "metadata": {},
     "output_type": "execute_result"
    }
   ],
   "source": [
    "index = [\n",
    "    'Relative objective function value', \n",
    "    'Relative squared projected gradient norm',\n",
    "    'Ratio of zero elements in W',\n",
    "    'Ratio of zero elements in H']\n",
    "columns = [\n",
    "    'Original',\n",
    "    'Normalized',\n",
    "    'Positive',\n",
    "    'Proposed'\n",
    "]\n",
    "\n",
    "df = pd.DataFrame(index=index, columns=columns)\n",
    "df['Original'] = original_ret\n",
    "df['Normalized'] = normalized_ret\n",
    "df['Positive'] = positive_ret\n",
    "df['Proposed'] = proposed_ret\n",
    "\n",
    "df"
   ]
  }
 ],
 "metadata": {
  "kernelspec": {
   "display_name": "Python 3",
   "language": "python",
   "name": "python3"
  },
  "language_info": {
   "codemirror_mode": {
    "name": "ipython",
    "version": 3
   },
   "file_extension": ".py",
   "mimetype": "text/x-python",
   "name": "python",
   "nbconvert_exporter": "python",
   "pygments_lexer": "ipython3",
   "version": "3.8.6"
  },
  "toc": {
   "base_numbering": 1,
   "nav_menu": {},
   "number_sections": true,
   "sideBar": true,
   "skip_h1_title": false,
   "title_cell": "Table of Contents",
   "title_sidebar": "Contents",
   "toc_cell": false,
   "toc_position": {},
   "toc_section_display": true,
   "toc_window_display": false
  }
 },
 "nbformat": 4,
 "nbformat_minor": 2
}
