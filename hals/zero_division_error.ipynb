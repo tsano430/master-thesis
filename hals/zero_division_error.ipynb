{
 "cells": [
  {
   "cell_type": "markdown",
   "metadata": {},
   "source": [
    "# Zero division error"
   ]
  },
  {
   "cell_type": "code",
   "execution_count": 1,
   "metadata": {},
   "outputs": [],
   "source": [
    "import sys\n",
    "import pickle\n",
    "import numpy as np\n",
    "import matplotlib.pyplot as plt\n",
    "from scipy import sparse\n",
    "%matplotlib inline"
   ]
  },
  {
   "cell_type": "code",
   "execution_count": 2,
   "metadata": {},
   "outputs": [],
   "source": [
    "from hals import NMF"
   ]
  },
  {
   "cell_type": "markdown",
   "metadata": {},
   "source": [
    "Parameters\n",
    "--------------"
   ]
  },
  {
   "cell_type": "code",
   "execution_count": 3,
   "metadata": {},
   "outputs": [],
   "source": [
    "max_iter = 100"
   ]
  },
  {
   "cell_type": "code",
   "execution_count": 4,
   "metadata": {},
   "outputs": [],
   "source": [
    "trial = 1000"
   ]
  },
  {
   "cell_type": "code",
   "execution_count": 5,
   "metadata": {},
   "outputs": [],
   "source": [
    "l1term = (0.0, 0.0)"
   ]
  },
  {
   "cell_type": "code",
   "execution_count": 6,
   "metadata": {},
   "outputs": [],
   "source": [
    "m, n = 100, 80\n",
    "dim = 3"
   ]
  },
  {
   "cell_type": "markdown",
   "metadata": {},
   "source": [
    "Simulation\n",
    "-------------"
   ]
  },
  {
   "cell_type": "code",
   "execution_count": 7,
   "metadata": {},
   "outputs": [],
   "source": [
    "density = []\n",
    "err_cnt = []"
   ]
  },
  {
   "cell_type": "code",
   "execution_count": 8,
   "metadata": {},
   "outputs": [],
   "source": [
    "density0 = 0.3\n",
    "err_cnt0 = 0\n",
    "\n",
    "for seed in range(trial):\n",
    "    X = sparse.rand(m, n, density=density0, random_state=seed).toarray()\n",
    "    if np.min(np.sum(X, axis=0)) < sys.float_info.epsilon:\n",
    "        continue\n",
    "    if np.min(np.sum(X, axis=1)) < sys.float_info.epsilon:\n",
    "        continue\n",
    "    try:\n",
    "        original = NMF(n_components=dim, max_iter=max_iter, init='random', calc_obj=False, calc_pgrad=False, stopkkt_flag=False, eps=0.0, normal_flag=False, random_state=seed).fit(X)\n",
    "        \n",
    "    except:\n",
    "        err_cnt0 += 1\n",
    "\n",
    "density.append(density0)\n",
    "err_cnt.append(err_cnt0)"
   ]
  },
  {
   "cell_type": "code",
   "execution_count": 9,
   "metadata": {},
   "outputs": [],
   "source": [
    "density1 = 0.2\n",
    "err_cnt1 = 0\n",
    "\n",
    "for seed in range(trial):\n",
    "    X = sparse.rand(m, n, density=density1, random_state=seed).toarray()\n",
    "    if np.min(np.sum(X, axis=0)) < sys.float_info.epsilon:\n",
    "        continue\n",
    "    if np.min(np.sum(X, axis=1)) < sys.float_info.epsilon:\n",
    "        continue\n",
    "    try:\n",
    "        original = NMF(n_components=dim, max_iter=max_iter, init='random', calc_obj=False, calc_pgrad=False, stopkkt_flag=False, eps=0.0, normal_flag=False, random_state=seed).fit(X)\n",
    "        \n",
    "    except:\n",
    "        err_cnt1 += 1\n",
    "    \n",
    "density.append(density1)\n",
    "err_cnt.append(err_cnt1)"
   ]
  },
  {
   "cell_type": "code",
   "execution_count": 10,
   "metadata": {},
   "outputs": [],
   "source": [
    "density2 = 0.1\n",
    "err_cnt2 = 0\n",
    "\n",
    "for seed in range(trial):\n",
    "    X = sparse.rand(m, n, density=density2, random_state=seed).toarray()\n",
    "    if np.min(np.sum(X, axis=0)) < sys.float_info.epsilon:\n",
    "        continue\n",
    "    if np.min(np.sum(X, axis=1)) < sys.float_info.epsilon:\n",
    "        continue\n",
    "    try:\n",
    "        original = NMF(n_components=dim, max_iter=max_iter, init='random', calc_obj=False, calc_pgrad=False, stopkkt_flag=False, eps=0.0, normal_flag=False, random_state=seed).fit(X)\n",
    "        \n",
    "    except:\n",
    "        err_cnt2 += 1\n",
    "    \n",
    "density.append(density2)\n",
    "err_cnt.append(err_cnt2)"
   ]
  },
  {
   "cell_type": "markdown",
   "metadata": {},
   "source": [
    "Result\n",
    "---------"
   ]
  },
  {
   "cell_type": "code",
   "execution_count": 11,
   "metadata": {},
   "outputs": [
    {
     "data": {
      "image/png": "[encoded data removed]",
      "text/plain": [
       "<Figure size 432x288 with 1 Axes>"
      ]
     },
     "metadata": {
      "needs_background": "light"
     },
     "output_type": "display_data"
    }
   ],
   "source": [
    "x = list(map(str, density))\n",
    "plt.bar(x, err_cnt)\n",
    "plt.ylim(0, trial)\n",
    "plt.xlabel('Density', fontsize=16)\n",
    "plt.ylabel('Count', fontsize=16)\n",
    "plt.title('Zero division error', fontsize=18)\n",
    "plt.tick_params(labelsize=16)\n",
    "plt.show()"
   ]
  }
 ],
 "metadata": {
  "kernelspec": {
   "display_name": "Python 3",
   "language": "python",
   "name": "python3"
  },
  "language_info": {
   "codemirror_mode": {
    "name": "ipython",
    "version": 3
   },
   "file_extension": ".py",
   "mimetype": "text/x-python",
   "name": "python",
   "nbconvert_exporter": "python",
   "pygments_lexer": "ipython3",
   "version": "3.8.6"
  }
 },
 "nbformat": 4,
 "nbformat_minor": 4
}
